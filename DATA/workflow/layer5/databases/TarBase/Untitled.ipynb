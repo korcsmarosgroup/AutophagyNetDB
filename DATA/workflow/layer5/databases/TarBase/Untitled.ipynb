{
 "cells": [
  {
   "cell_type": "code",
   "execution_count": 6,
   "metadata": {
    "collapsed": false
   },
   "outputs": [
    {
     "name": "stdout",
     "output_type": "stream",
     "text": [
      "['qRT-PCR', 'Luciferase reporter assay', 'Western blot', 'GFP reporter assay', 'In situ hybridization', 'Northern blot', 'Reporter assay', 'Other', 'Microarray', 'Immunohistochemistry', 'Immunocytochemistry', 'Immunoblot', '5RACE', 'phenotypic sensor assay', 'real-time RT-PCR', 'in situ hybridization', 'FACS', 'ELISA', 'Flow', 'ChIP-seq', 'Immunofluorescence', 'GFP Reporter Assay', 'HITS-CLIP', 'PAR-CLIP', 'intrarenal expression', 'Proteomics', 'ChIP immunoprecipitation', 'Luciferase assay', 'QRTPCR', 'Next Generation Sequencing (NGS)', 'RNA-binding protein immunoprecipitation', 'immunohistochemistry', 'Sequencing', 'CLASH', 'immunoprecipitaion', 'Quantitative proteomic approach', 'ChIP', 'TRAP', 'Immunoprecipitaion', 'LacZ reporter assay', '', 'flow', 'EMSA', 'Communoprecipitaion', 'pSILAC', 'RTPCR', 'proteomics analysis', 'immunoblot', 'ASO assay', 'semi-qRT-PCR', 'mice xenograft', 'Chip', 'Flow cytometry', 'Immuohistochemistry', 'Chromatin immunoprecipitation', 'microarray', 'Western blotting', 'TaqMan miRNA assay/RT-PCR', 'TaqMan miRNA assay', 'QRTPCRWestern blot', 'Gluc assay', 'Real time PCR', \"3'LIFE\", 'Annexin V-FITC', \"5\\\\'RACE\", 'Real time RT-PCR', 'Luciferase assay/RT-PCR', 'Westren blot', '2DGE', 'Mass spectrometry', 'EGFP reporter assay', ' Western blot', 'AGO2 binding RNA immunoprecipitation qRT-PCR', 'B-globin reporter assay', 'RISC-IP', 'Western Blotting', 'Immunoprecipitation', 'GFP reporter', 'pMIR-REPORT', 'LacZ assay', \"5'RACE\", 'Western blog', 'Western blo', 'western blot', 'Reverse-phase protein array', 'Western Blot', 'MTT assay', 'Immunofluorescence staining', 'Immunoblotting', 'SILAC (Stable Isotope Labeling of Amino acids in Culture)', 'Western blot, luciferase assay', 'DNA methylation analysis', 'Wetsern blot', 'Immunohistochemistry analysis', 'ChIP-PCR', 'luciferase reporter assays', 'PCR array', 'Western', 'immunostaining', 'Caspase-GloÂ® 3/7 assay', 'Cell proliferation assay', 'safranin o staining/GAGs contents assay', 'wound healing assays', 'transwell insert', 'anoikis assay', 'Gluc reporter assay', 'GUS reporter assay', 'Zymography', 'Motility assay', 'CAM assay', 'Colony formation assay', 'Alizarin red S staining', 'mRNA decay', 'Cell proliferation', 'apoptosis', 'cell cycle assays', 'colony formation', 'Immunoflourescence', 'Micorarray', 'Westren Blot', 'Luciferase reporter assay/Western blot', 'Immunohistochemical (IHC) staining', 'Luciferase reporter assay/qRT-PCR', '5\"RACE', 'Immunofluorescence analysis', 'luciferase reporter assay', 'Wstern blot', 'Coimmunoprecipitation', 'Immunofluorescence microscopy', '/Western blot', 'Luciferase reporter assay/QRTPCR', 'MTT', 'immunofluorescence assays', 'qRT_PCR', '2-D Gel Electrophoresis (2DGE)', 'RISC analysis', 'silico analysis', 'Microarray/In situ hybridization', 'Western blot ', 'Genotyping', 'Weastern blot', 'YFP expression', 'To test if miR-141 directly targets the PR transcript, we analyzed four predicted miR-141-binding sites (Figure 4c)', ' three within the 3â€˛ untranslated region (UTR) as identified through Targetscan (http:', 'www.targetscan.org/) and one in the la', 'qRT-PCR/Luciferase reporter assay', 'Luciferase reporter assay and western blot', 'TOPď¬‚ash/FOPď¬‚ash reporter assay', 'dual-luciferase reporter assay', 'RNA immunoprecipitation assay (RIP)', 'Chromogenic in situ hybridization', 'Luciferase reporter assa', 'Immunoprecipitaionă„ĄLuciferase reporter assay', 'Luciferase reporter assay/Microarray', 'q-PCR', 'AGO2 Immunoprecipitation', 'Cell proliferation assays', 'LC-MS/MS', 'Chromatin Immunoprecipitation', 'Co-immunoprecipitation', 'IlluminaExpressionArrays', 'Protein Immunoblot Analyses', 'miR PCR array system', 'mtt', 'RNA immunopercipitation', 'TOP/FOP luciferase assay', 'miRNA-masking antisense ODN (miR-Mask) assay', 'enzyme-linked immunosorbent assay', 'Ago2-IP/IgG-IP', 'EGFR reporter assay', 'immunoblot analysis', 'Immunohistochemical analysis', 'CC tissues and cells (C33A, HeLa, CaSki, SiHa, and ME-180)', 'Immuno-precipitation', 'Luciferase reporter assayMTT', 'Immunostaining', 'immunosorbent', 'Immunofluorescent Assay', 'YFP reporter assay', 'CLIP-seq', 'RNAi']\n"
     ]
    }
   ],
   "source": [
    "file_list = [\n",
    "    'tarbase_v7_drosi.txt',\n",
    "    'tarbase_v7_danio.txt',\n",
    "    'tarbase_v7_human.txt',\n",
    "    'tarbase_v7_celegans.txt'\n",
    "]\n",
    "detmap = []\n",
    "\n",
    "for file in file_list:\n",
    "\n",
    "    with open(file) as infile:\n",
    "        infile.readline()\n",
    "        for line in infile:\n",
    "            line = line.strip().split('\\t')\n",
    "            for method in line[6].split('//'):\n",
    "                for real_method in method.split(';'):\n",
    "                    if real_method not in detmap:\n",
    "                        detmap.append(real_method)\n",
    "                    \n",
    "print(detmap)\n",
    "        "
   ]
  },
  {
   "cell_type": "code",
   "execution_count": null,
   "metadata": {
    "collapsed": true
   },
   "outputs": [],
   "source": []
  }
 ],
 "metadata": {
  "kernelspec": {
   "display_name": "Python 3",
   "language": "python",
   "name": "python3"
  },
  "language_info": {
   "codemirror_mode": {
    "name": "ipython",
    "version": 3
   },
   "file_extension": ".py",
   "mimetype": "text/x-python",
   "name": "python",
   "nbconvert_exporter": "python",
   "pygments_lexer": "ipython3",
   "version": "3.5.1"
  }
 },
 "nbformat": 4,
 "nbformat_minor": 2
}
