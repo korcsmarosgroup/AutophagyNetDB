{
 "cells": [
  {
   "cell_type": "code",
   "execution_count": 3,
   "metadata": {
    "collapsed": false
   },
   "outputs": [
    {
     "name": "stdout",
     "output_type": "stream",
     "text": [
      "['pull-down assay', 'qPCR, Western blot, RIP.', 'qRT-PCR, RNAi', 'in vitro', 'In vitro', 'Luciferase reporter assay, Pulldown assay ', 'luciferase reporter assays and pull-down assay', 'RIP', 'luciferase reporter constructs', 'in vitro and vivo', 'dual luciferase reporter assay?', 'dual luciferase reporter assays', 'qPCR, RNAi etc.', 'ISH and Luciferase Assay', 'In vitro RNA/dsDNA binding assay utilizing biotin tagged RNA oligos as bait', 'In vitro RNA/dsDNA binding assay', 'biotin-avidin pull-down system', 'microRNA crosslinking and immunoprecipitation (miR-CLIP)', 'Luciferase reporter assay and qPCR', 'RNA immunoprecipitation;luciferase reporter assays', 'in vivo', 'luciferase reporter assays', 'RNA immunoprecipitation and luciferase reporter assays', 'EMSA', 'luciferase reporter assay', 'Luciferase assays', '-', 'RNA immunoprecipitation', 'RIP, Biotin-RNA Pull-Down Assay,qRT-PCR,EMSA', 'Luciferase reporter assay, RIP assay and RNA pull-down assay', 'qPCR, Western blot and RNAi', 'luciferase  reporter  assay', 'CLIP', 'RIP and ChIP assay ', 'in vitro or vivo', 'RNA pull-down assay', 'immunoprecipitation (RIP) assay and RNA pull-down assay', 'luciferase reporter', 'in vitro and in vivo', 'in viro', 'co-RNA-FISH assays', 'luciferase reporter ', 'microarray, qPCR', 'In vitro and in vivo', 'Luciferase reporter assays', 'RIP and Luciferase assays', 'RNA-FISH', 'RNA FISH', 'FISH, Allele-specific RT-PCR', 'RIP and RNA pull-down']\n"
     ]
    }
   ],
   "source": [
    "mylist = []\n",
    "with open('result_all.txt') as infile:\n",
    "    infile.readline()\n",
    "    for line in infile:\n",
    "        line = line.strip().split('\\t')\n",
    "        if line[8] not in mylist:\n",
    "            mylist.append(line[8])\n",
    "print(mylist)"
   ]
  },
  {
   "cell_type": "code",
   "execution_count": null,
   "metadata": {
    "collapsed": true
   },
   "outputs": [],
   "source": []
  }
 ],
 "metadata": {
  "kernelspec": {
   "display_name": "Python 3",
   "language": "python",
   "name": "python3"
  },
  "language_info": {
   "codemirror_mode": {
    "name": "ipython",
    "version": 3
   },
   "file_extension": ".py",
   "mimetype": "text/x-python",
   "name": "python",
   "nbconvert_exporter": "python",
   "pygments_lexer": "ipython3",
   "version": "3.5.1"
  }
 },
 "nbformat": 4,
 "nbformat_minor": 2
}
